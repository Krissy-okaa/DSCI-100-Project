{
 "cells": [
  {
   "cell_type": "markdown",
   "id": "74efc9bc-2489-4ef8-b85f-d34fb54788ac",
   "metadata": {},
   "source": [
    "# Project\n",
    "### Link to GitHub Repository: https://github.com/Krissy-okaa/DSCI-100-Project\n",
    "\n",
    "## Predicting Newsletter Subscription in a Minecraft Research Server\n",
    "\n",
    "## Introduction\n",
    "\n",
    "### Background\n",
    "\n",
    "Understanding user behavior in video games is a growing area of interest for both researchers and developers. In this project, we analyze player data collected from a Minecraft research server to investigate which player characteristics and behaviors are predictive of subscribing to a game-related newsletter. This question is important because targeting players more likely to engage with the community can help optimize recruitment strategies and server resource allocation.\n",
    "\n",
    "### Question\n",
    "\n",
    "Can player characteristics such as experience level and total played hours predict newsletter subscription in the Minecraft dataset?\n"
   ]
  },
  {
   "cell_type": "markdown",
   "id": "d1e6c650-1720-499a-8d95-9ce1a98d44dd",
   "metadata": {},
   "source": [
    "## Data Description\n",
    "\n",
    "The dataset `players.csv` includes 196 unique players with the following variables will be su e:\n",
    "\n",
    "The following data will be used：\n",
    "\n",
    "- `subscribe` (factor): Whether the player subscribed to the newsletter.\n",
    "- `experience` (categorical): Self-reported experience level in the game.\n",
    "- `played_hours` (numeric): Total number of hours the player spent playing.\n"
   ]
  },
  {
   "cell_type": "code",
   "execution_count": null,
   "id": "0cce9939-00f4-4a21-af7b-c1d1266184b2",
   "metadata": {},
   "outputs": [],
   "source": [
    "library(tidyverse)\n",
    "library(tidymodels)"
   ]
  },
  {
   "cell_type": "markdown",
   "id": "ea0016f1-92d8-4308-a2f5-bee3f6901aed",
   "metadata": {},
   "source": [
    "## Methods & Results\n",
    "\n",
    "### Data Preparation\n",
    "\n",
    "The `players.csv` dataset was loaded using `read_csv()`. The `experience` variable was converted into an ordered factor from “Beginner” to “Pro”, and `subscribe` was converted into a factor. A new dataset was created using only `subscribe` and `played_hours`.\n"
   ]
  },
  {
   "cell_type": "code",
   "execution_count": null,
   "id": "10e9eb8a-cbd4-47e8-a0f9-10268e59bf9c",
   "metadata": {},
   "outputs": [],
   "source": [
    "players <- read_csv(\"players.csv\")"
   ]
  },
  {
   "cell_type": "code",
   "execution_count": null,
   "id": "0b768d94-4a24-402a-a58e-f97034fbe085",
   "metadata": {},
   "outputs": [],
   "source": [
    "experience_levels <- c(\"Beginner\", \"Amateur\", \"Regular\", \"Veteran\", \"Pro\")\n",
    "\n",
    "model_data <- players |>\n",
    "  select(subscribe, experience, played_hours) |>\n",
    "  mutate(subscribe = as.factor(subscribe),\n",
    "         experience = factor(experience, levels = experience_levels))\n",
    "\n",
    "head(model_data)"
   ]
  },
  {
   "cell_type": "code",
   "execution_count": null,
   "id": "3dce65d7-4eb4-4a81-b61a-ceaae81987ae",
   "metadata": {},
   "outputs": [],
   "source": [
    "model_data |>\n",
    "  group_by(experience, subscribe) |>\n",
    "  summarise(count = n()) |>\n",
    "  pivot_wider(names_from = subscribe, values_from = count, values_fill = 0) |>\n",
    "  rename(False = `FALSE`, True = `TRUE`)"
   ]
  },
  {
   "cell_type": "markdown",
   "id": "b95aab9b-dafe-4abc-8ed5-69e3b936d034",
   "metadata": {},
   "source": [
    "### Exploratory Data Analysis\n",
    "\n",
    "#### Figure 1: Proportion of Subscription Status by Experience Level\n",
    "\n",
    "The bar chart below shows the proportion of players who subscribed and did not subscribe within each experience level. The chart shows that the influence of experience level on subscription is not very significant.\n"
   ]
  },
  {
   "cell_type": "code",
   "execution_count": null,
   "id": "7760ed3c-5456-46d1-9b36-aa7b2da81c6e",
   "metadata": {},
   "outputs": [],
   "source": [
    "options(repr.plot.width = 10, repr.plot.height = 6)\n",
    "\n",
    "experience_subscribe_counts <- model_data |>\n",
    "  count(experience, subscribe)\n",
    "\n",
    "experience_subscribe_counts |>\n",
    "  ggplot(aes(x = experience, y = n, fill = subscribe)) +\n",
    "  geom_bar(stat = \"identity\", position = \"fill\") +\n",
    "  labs(title = \"Proportion of Subscription Status by Experience Level\",\n",
    "       x = \"Experience Level\",\n",
    "       y = \"Proportion of Players\",\n",
    "       fill = \"Subscribed\") +\n",
    "       theme(text = element_text(size = 20))"
   ]
  },
  {
   "cell_type": "markdown",
   "id": "fb7cd39d-8ae7-4592-9b91-d01eb76750fb",
   "metadata": {},
   "source": [
    "#### Figure 2: Played Hours by Subscription Status\n",
    "\n",
    "The boxplot below compares the distribution of `played_hours` between subscribed and non-subscribed players. Subscribed players appear to have generally played more, with a higher median and more upper outliers.\n"
   ]
  },
  {
   "cell_type": "code",
   "execution_count": null,
   "id": "1eba7dd4-873d-410c-94e0-ea8e0716b744",
   "metadata": {},
   "outputs": [],
   "source": [
    "ggplot(model_data, aes(x = subscribe, y = played_hours, fill = subscribe)) +\n",
    "  geom_boxplot() +\n",
    "  labs(title = \"Figure a: Played Hours by Subscription Status\",\n",
    "       x = \"Subscribed\",\n",
    "       y = \"Total Played Hours\") +\n",
    "  theme(text = element_text(size = 20))\n",
    "\n",
    "ggplot(model_data, aes(x = subscribe, y = played_hours, fill = subscribe)) +\n",
    "  geom_boxplot() +\n",
    "  coord_cartesian(ylim = c(0, 15)) +\n",
    "  labs(title = \"Figure b: Played Hours by Subscription Status\",\n",
    "       x = \"Subscribed\",\n",
    "       y = \"Total Played Hours\") +\n",
    "  theme(text = element_text(size = 20))"
   ]
  },
  {
   "cell_type": "markdown",
   "id": "91254101-75ad-4dd6-a016-f4b54378fe62",
   "metadata": {},
   "source": [
    "### Method Justification\n",
    "\n",
    "The visualizations used are suitable for comparing categorical variables (`experience`, `subscribe`) with numeric distributions (`played_hours`). Bar plots and boxplots are commonly used for exploratory data analysis in classification problems.\n",
    "\n",
    "- **Assumptions**: Boxplots assume a meaningful comparison of numeric data across categorical groups, which is valid for `subscribe` as a binary factor.\n",
    "- **Limitations**: The analysis does not include other potential variables, such as gender or behavioral session patterns, which may influence subscription.\n",
    "- **Model Comparison**: This section is focused on initial exploratory analysis, providing visual insights into the data prior to formal predictive modeling."
   ]
  },
  {
   "cell_type": "markdown",
   "id": "80d1fd42-c288-499a-bf08-599366782607",
   "metadata": {},
   "source": [
    "### KNN Classification Model\n",
    "The KNN classifier was trained using 75% of the data and tested on the remaining 25%. Only one variable, `played_hours`, was used as the predictor. Standardization was applied to the numeric predictor to ensure fair distance calculation. Model accuracy was calculated using the `metrics()` function, providing a measure of predictive performance.\n"
   ]
  },
  {
   "cell_type": "code",
   "execution_count": null,
   "id": "dfd4f2c8-a998-49de-9cf7-edeee7907c44",
   "metadata": {},
   "outputs": [],
   "source": [
    "model_data_played <- model_data |>\n",
    "  select(subscribe, played_hours)\n",
    "\n",
    "set.seed(2025)\n",
    "data_split <- initial_split(model_data_played, prop = 0.75, strata = subscribe)\n",
    "data_train <- training(data_split)\n",
    "data_test <- testing(data_split)\n",
    "\n",
    "knn_recipe <- recipe(subscribe ~ played_hours, data = data_train) |>\n",
    "  step_scale(all_numeric_predictors()) |>\n",
    "  step_center(all_numeric_predictors())\n",
    "\n",
    "knn_spec <- nearest_neighbor(neighbors = 5, weight_func = \"rectangular\") |>\n",
    "  set_engine(\"kknn\") |>\n",
    "  set_mode(\"classification\")\n",
    "\n",
    "knn_fit <- workflow() |>\n",
    "  add_recipe(knn_recipe) |>\n",
    "  add_model(knn_spec) |>\n",
    "  fit(data = data_train)\n",
    "\n",
    "knn_preds <- knn_fit |>\n",
    "  predict(data_test) |>\n",
    "  bind_cols(data_test)\n",
    "\n",
    "knn_preds |>\n",
    " conf_mat(truth=subscribe, estimate =.pred_class)\n",
    "knn_preds |>\n",
    " metrics(truth=subscribe, estimate =.pred_class)"
   ]
  },
  {
   "cell_type": "markdown",
   "id": "143b1e2d-54d9-46af-8588-f05ec5fa3f05",
   "metadata": {},
   "source": [
    "### Discussion\n",
    "\n",
    "This project explored whether a player’s total played hours (`played_hours`) could help predict whether they subscribed to a Minecraft newsletter (`subscribe`).\n",
    "\n",
    "Figure 1 shows the percentage of subscribed and non-subscribed players across different experience levels. The proportions are quite similar between the levels, which suggests that a player’s experience may not have a strong connection to their decision to subscribe. Because of this, experience level was not used in the final prediction.\n",
    "\n",
    "Figure a shows a boxplot of `played_hours` by subscription status. Because some players played a lot more than others, the plot includes a few extreme values that made the box hard to read. Most players had fewer hours, so the center of the data was hard to see.\n",
    "\n",
    "To fix this, Figure b shows the same plot but zoomed in to only display 0–15 hours. This makes the difference easier to see. Subscribed players had a higher median and a wider spread of play time, meaning they tend to play more than non-subscribed players.\n",
    "\n",
    "Even though this trend is visible, the KNN model was not able to make accurate predictions. It had an accuracy of about **42.9%**, which is lower than random guessing. The difference in game time between the groups was not strong or consistent enough to be useful on its own.\n",
    "\n",
    "To improve prediction in future work, it would be helpful to include more information—such as how often players log in, how long their sessions are, or other patterns of behavior during gameplay.\n"
   ]
  },
  {
   "cell_type": "code",
   "execution_count": null,
   "id": "cfaae5a9-96ce-4ac4-9176-7c8bdd6fe596",
   "metadata": {},
   "outputs": [],
   "source": []
  }
 ],
 "metadata": {
  "kernelspec": {
   "display_name": "R",
   "language": "R",
   "name": "ir"
  },
  "language_info": {
   "codemirror_mode": "r",
   "file_extension": ".r",
   "mimetype": "text/x-r-source",
   "name": "R",
   "pygments_lexer": "r",
   "version": "4.3.3"
  }
 },
 "nbformat": 4,
 "nbformat_minor": 5
}
