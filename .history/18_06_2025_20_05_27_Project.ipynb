{
 "cells": [
  {
   "cell_type": "markdown",
   "id": "74efc9bc-2489-4ef8-b85f-d34fb54788ac",
   "metadata": {},
   "source": [
    "# Project\n",
    "### Link to GitHub Repository\n",
    "\n",
    "## Predicting Newsletter Subscription in a Minecraft Research Server\n",
    "\n",
    "## Introduction\n",
    "\n",
    "### Background\n",
    "\n",
    "Understanding user behavior in video games is a growing area of interest for both researchers and developers. In this project, we analyze player data collected from a Minecraft research server to investigate which player characteristics and behaviors are predictive of subscribing to a game-related newsletter. This question is important because targeting players more likely to engage with the community can help optimize recruitment strategies and server resource allocation.\n",
    "\n",
    "### Question\n",
    "\n",
    "Can player characteristics such as experience level and total played hours predict newsletter subscription in the Minecraft dataset?\n"
   ]
  },
  {
   "cell_type": "markdown",
   "id": "d1e6c650-1720-499a-8d95-9ce1a98d44dd",
   "metadata": {},
   "source": [
    "## Data Description\n",
    "\n",
    "The dataset `players.csv` includes 196 unique players with the following variables used:\n",
    "\n",
    "The following data will be used：\n",
    "\n",
    "- `subscribe` (factor): Whether the player subscribed to the newsletter.\n",
    "- `experience` (categorical): Self-reported experience level in the game.\n",
    "- `played_hours` (numeric): Total number of hours the player spent playing.\n"
   ]
  },
  {
   "cell_type": "code",
   "execution_count": null,
   "id": "0cce9939-00f4-4a21-af7b-c1d1266184b2",
   "metadata": {},
   "outputs": [],
   "source": [
    "library(tidyverse)\n",
    "library(tidymodels)"
   ]
  },
  {
   "cell_type": "markdown",
   "id": "ea0016f1-92d8-4308-a2f5-bee3f6901aed",
   "metadata": {},
   "source": [
    "## Methods & Results\n",
    "\n",
    "### Data Preparation\n",
    "\n",
    "The `players.csv` dataset was loaded using `read_csv()`. The `experience` variable was converted into an ordered factor from “Beginner” to “Pro”, and `subscribe` was converted into a factor. A new dataset was created using only `subscribe` and `played_hours`.\n"
   ]
  },
  {
   "cell_type": "code",
   "execution_count": null,
   "id": "3ad24682-0023-44b5-a5c0-3d27a8297c96",
   "metadata": {},
   "outputs": [],
   "source": [
    "players <- read_csv(\"players.csv\")\n",
    "sessions <- read_csv(\"sessions.csv\")"
   ]
  },
  {
   "cell_type": "code",
   "execution_count": null,
   "id": "0b768d94-4a24-402a-a58e-f97034fbe085",
   "metadata": {},
   "outputs": [],
   "source": [
    "experience_levels <- c(\"Beginner\", \"Amateur\", \"Regular\", \"Veteran\", \"Pro\")\n",
    "\n",
    "model_data <- players |>\n",
    "  select(subscribe, experience, played_hours) |>\n",
    "  mutate(subscribe = as.factor(subscribe),\n",
    "         experience = factor(experience, levels = experience_levels))\n",
    "\n",
    "head(model_data)"
   ]
  },
  {
   "cell_type": "code",
   "execution_count": null,
   "id": "3dce65d7-4eb4-4a81-b61a-ceaae81987ae",
   "metadata": {},
   "outputs": [],
   "source": [
    "model_data |>\n",
    "  group_by(experience, subscribe) |>\n",
    "  summarise(count = n()) |>\n",
    "  pivot_wider(names_from = subscribe, values_from = count, values_fill = 0) |>\n",
    "  rename(False = `FALSE`, True = `TRUE`)"
   ]
  },
  {
   "cell_type": "markdown",
   "id": "b95aab9b-dafe-4abc-8ed5-69e3b936d034",
   "metadata": {},
   "source": [
    "### Exploratory Data Analysis\n",
    "\n",
    "#### Figure 1: Proportion of Subscription Status by Experience Level\n",
    "\n",
    "The bar chart below shows the proportion of players who subscribed and did not subscribe within each experience level. The chart shows that the influence of experience level on subscription is not very significant.\n",
    "#### Figure 2: Played Hours by Subscription Status\n",
    "\n",
    "The boxplot below compares the distribution of `played_hours` between subscribed and non-subscribed players. Subscribed players appear to have generally played more, with a higher median and more upper outliers.\n"
   ]
  },
  {
   "cell_type": "code",
   "execution_count": null,
   "id": "7760ed3c-5456-46d1-9b36-aa7b2da81c6e",
   "metadata": {},
   "outputs": [],
   "source": [
    "options(repr.plot.width = 10, repr.plot.height = 6)\n",
    "\n",
    "experience_subscribe_counts <- model_data |>\n",
    "  count(experience, subscribe)\n",
    "\n",
    "experience_subscribe_counts |>\n",
    "  ggplot(aes(x = experience, y = n, fill = subscribe)) +\n",
    "  geom_bar(stat = \"identity\", position = \"fill\") +\n",
    "  labs(title = \"Proportion of Subscription Status by Experience Level\",\n",
    "       x = \"Experience Level\",\n",
    "       y = \"Proportion of Players\",\n",
    "       fill = \"Subscribed\") +\n",
    "       theme(text = element_text(size = 20))"
   ]
  },
  {
   "cell_type": "code",
   "execution_count": null,
   "id": "1eba7dd4-873d-410c-94e0-ea8e0716b744",
   "metadata": {},
   "outputs": [],
   "source": [
    "ggplot(model_data, aes(x = subscribe, y = played_hours, fill = subscribe)) +\n",
    "  geom_boxplot() +\n",
    "  labs(title = \"Figure 1: Played Hours by Subscription Status\",\n",
    "       x = \"Subscribed\",\n",
    "       y = \"Total Played Hours\") +\n",
    "  theme(text = element_text(size = 20))\n",
    "\n",
    "ggplot(model_data, aes(x = subscribe, y = played_hours, fill = subscribe)) +\n",
    "  geom_boxplot() +\n",
    "  coord_cartesian(ylim = c(0, 15)) +\n",
    "  labs(title = \"Figure 2: Played Hours by Subscription Status\",\n",
    "       x = \"Subscribed\",\n",
    "       y = \"Total Played Hours\") +\n",
    "  theme(text = element_text(size = 20))"
   ]
  },
  {
   "cell_type": "code",
   "execution_count": null,
   "id": "858c01c7-a85a-4080-83c0-c2497f5029ab",
   "metadata": {},
   "outputs": [],
   "source": [
    "\n"
   ]
  },
  {
   "cell_type": "code",
   "execution_count": null,
   "id": "ba4f9a33-1cc6-4d32-9e24-552c6c7344d3",
   "metadata": {},
   "outputs": [],
   "source": [
    "model_data_played <- model_data |>\n",
    "  select(subscribe, played_hours)\n",
    "\n",
    "set.seed(2025)\n",
    "data_split <- initial_split(model_data_played, prop = 0.75, strata = subscribe)\n",
    "data_train <- training(data_split)\n",
    "data_test <- testing(data_split)\n",
    "\n",
    "knn_recipe <- recipe(subscribe ~ played_hours, data = data_train) |>\n",
    "  step_scale(all_numeric_predictors()) |>\n",
    "  step_center(all_numeric_predictors())\n",
    "\n",
    "knn_spec <- nearest_neighbor(neighbors = 5, weight_func = \"rectangular\") |>\n",
    "  set_engine(\"kknn\") |>\n",
    "  set_mode(\"classification\")\n",
    "\n",
    "knn_fit <- workflow() |>\n",
    "  add_recipe(knn_recipe) |>\n",
    "  add_model(knn_spec) |>\n",
    "  fit(data = data_train)\n",
    "\n",
    "knn_preds <- knn_fit |>\n",
    "  predict(data_test) |>\n",
    "  bind_cols(data_test)\n",
    "\n",
    "knn_preds |>\n",
    " conf_mat(truth=subscribe, estimate =.pred_class)\n",
    "knn_preds |>\n",
    " metrics(truth=subscribe, estimate =.pred_class)"
   ]
  },
  {
   "cell_type": "code",
   "execution_count": null,
   "id": "0f135d1b-0402-487b-994b-4d18006cbcec",
   "metadata": {},
   "outputs": [],
   "source": []
  },
  {
   "cell_type": "code",
   "execution_count": null,
   "id": "e9c3fb0c-e479-42a1-91e8-1f7e81525951",
   "metadata": {},
   "outputs": [],
   "source": []
  },
  {
   "cell_type": "code",
   "execution_count": null,
   "id": "91af82cc-410f-493f-9248-47d9f93b6b7b",
   "metadata": {},
   "outputs": [],
   "source": []
  },
  {
   "cell_type": "code",
   "execution_count": null,
   "id": "d4bca436-89f3-425e-9c63-7883d5a39731",
   "metadata": {},
   "outputs": [],
   "source": []
  },
  {
   "cell_type": "code",
   "execution_count": null,
   "id": "fb6a1bc4-ff0c-4492-89ca-75cf671c2984",
   "metadata": {},
   "outputs": [],
   "source": []
  },
  {
   "cell_type": "code",
   "execution_count": null,
   "id": "3f074dd9-a416-4a76-ba3b-8a009d45d6e6",
   "metadata": {},
   "outputs": [],
   "source": []
  },
  {
   "cell_type": "code",
   "execution_count": null,
   "id": "8f2dfa9a-01cb-4b98-88f8-5004cd52384e",
   "metadata": {},
   "outputs": [],
   "source": []
  }
 ],
 "metadata": {
  "kernelspec": {
   "display_name": "R",
   "language": "R",
   "name": "ir"
  },
  "language_info": {
   "codemirror_mode": "r",
   "file_extension": ".r",
   "mimetype": "text/x-r-source",
   "name": "R",
   "pygments_lexer": "r",
   "version": "4.3.3"
  }
 },
 "nbformat": 4,
 "nbformat_minor": 5
}
