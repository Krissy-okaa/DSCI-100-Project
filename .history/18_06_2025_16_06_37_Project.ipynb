{
 "cells": [
  {
   "cell_type": "markdown",
   "id": "74efc9bc-2489-4ef8-b85f-d34fb54788ac",
   "metadata": {},
   "source": [
    "# Project\n",
    "### Link to GitHub Repository\n",
    "\n",
    "## Predicting Newsletter Subscription in a Minecraft Research Server\n",
    "\n",
    "## Introduction\n",
    "\n",
    "### Background\n",
    "\n",
    "Understanding user behavior in video games is a growing area of interest for both researchers and developers. In this project, we analyze player data collected from a Minecraft research server to investigate which player characteristics and behaviors are predictive of subscribing to a game-related newsletter. This question is important because targeting players more likely to engage with the community can help optimize recruitment strategies and server resource allocation.\n",
    "\n",
    "### Question\n",
    "\n",
    "Can player characteristics such as experience level and total played hours predict newsletter subscription in the Minecraft dataset?\n"
   ]
  },
  {
   "cell_type": "markdown",
   "id": "d1e6c650-1720-499a-8d95-9ce1a98d44dd",
   "metadata": {},
   "source": [
    "## Data Description\n",
    "\n",
    "Two datasets were used:\n",
    "\n",
    "- `players.csv`: Includes demographic and self-reported information on 196 unique players.\n",
    "- `sessions.csv`: Includes 1535 records of individual game sessions.\n",
    "\n",
    "The following variables were selected to answer the question:\n",
    "\n",
    "| Variable       | Type       | Description                                                         |\n",
    "|----------------|------------|---------------------------------------------------------------------|\n",
    "| `subscribe`    | factor     | Whether the player subscribed to the newsletter.                    |\n",
    "| `Age`          | numeric    | Age of the player. Two missing values were filled using the median. |\n",
    "| `gender`       | categorical| Player’s self-reported gender.                                      |\n",
    "| `experience`   | categorical| Player’s self-assessed experience level.                            |\n",
    "| `played_hours` | numeric    | Total hours the player has spent playing.                           |\n",
    "\n",
    "- **Data Cleaning**:  \n",
    "  - The two missing `Age` values were replaced with the median age.\n",
    "  - Players with no sessions were retained, as `played_hours` still reflects their activity.\n",
    "\n",
    "The outcome variable is `subscribe`, and the predictors include demographic and behavioral variables. After wrangling and cleaning, the data was ready for modeling using classification techniques.\n"
   ]
  },
  {
   "cell_type": "code",
   "execution_count": null,
   "id": "0cce9939-00f4-4a21-af7b-c1d1266184b2",
   "metadata": {},
   "outputs": [],
   "source": [
    "library(tidyverse)\n",
    "library(tidymodels)"
   ]
  },
  {
   "cell_type": "code",
   "execution_count": null,
   "id": "3ad24682-0023-44b5-a5c0-3d27a8297c96",
   "metadata": {},
   "outputs": [],
   "source": [
    "players <- read_csv(\"players.csv\")\n",
    "sessions <- read_csv(\"sessions.csv\")"
   ]
  },
  {
   "cell_type": "markdown",
   "id": "e6144a92-6951-404e-aa78-6409b1913a95",
   "metadata": {},
   "source": [
    "## Methods & Results\n",
    "\n",
    "### Data Loading and Cleaning\n",
    "\n",
    "First, loaded two datasets, `players.csv` and `sessions.csv`, using the `read_csv()` function from the `readr` package. However, for this analysis, we only used the `players.csv` file since our research question focuses on player characteristics rather than session behavior.\n",
    "\n",
    "Selected three columns from the dataset: `subscribe` (whether the player subscribed), `experience` (self-reported experience level), and `played_hours` (total hours spent playing). We converted `subscribe` to a factor and ordered the `experience` variable by defining a custom factor level from beginner to pro."
   ]
  },
  {
   "cell_type": "code",
   "execution_count": null,
   "id": "0b768d94-4a24-402a-a58e-f97034fbe085",
   "metadata": {},
   "outputs": [],
   "source": [
    "experience_levels <- c(\"Beginner\", \"Amateur\", \"Regular\", \"Veteran\", \"Pro\")\n",
    "\n",
    "model_data <- players |>\n",
    "  select(subscribe, experience, played_hours) |>\n",
    "  mutate(subscribe = as.factor(subscribe),\n",
    "         experience = factor(experience, levels = experience_levels))\n",
    "\n",
    "head(model_data)"
   ]
  },
  {
   "cell_type": "code",
   "execution_count": null,
   "id": "3dce65d7-4eb4-4a81-b61a-ceaae81987ae",
   "metadata": {},
   "outputs": [],
   "source": [
    "model_data |>\n",
    "  group_by(experience_level, subscribe) |>\n",
    "  summarise(count = n()) |>\n",
    "  pivot_wider(names_from = subscribe, values_from = count, values_fill = 0) |>\n",
    "  rename(False = `FALSE`, True = `TRUE`)"
   ]
  },
  {
   "cell_type": "markdown",
   "id": "b95aab9b-dafe-4abc-8ed5-69e3b936d034",
   "metadata": {},
   "source": [
    "### Exploratory Data Analysis\n",
    "\n",
    "To explore the relationship between experience level and subscription, a **proportional stacked bar chart** (Figure 1) was created. The data were grouped by `experience` and `subscribe`, and the number of players in each group was counted. The chart used `position = \"fill\"` to show the proportion of subscribers within each experience level.\n",
    "\n",
    "**Figure 1** shows that players with higher experience levels (such as “Pro” and “Regular”) had a larger proportion of subscribers compared to lower-level players like “Beginner” or “Amateur”.\n",
    "\n",
    "To investigate whether game time was associated with subscription, a **boxplot** was generated (Figure 2). This visualization compared the distribution of `played_hours` between players who subscribed and those who did not.\n",
    "\n",
    "**Figure 2** indicates that subscribers generally played more hours on average, with a higher median and a wider range of playtime. This suggests that more active players may be more likely to engage further with the game, such as by subscribing to the newsletter.\n",
    "\n",
    "### Method Justification\n",
    "\n",
    "The visualizations used are suitable for comparing categorical variables (`experience`, `subscribe`) with numeric distributions (`played_hours`). Bar plots and boxplots are commonly used for exploratory data analysis in classification problems.\n",
    "\n",
    "- **Assumptions**: Boxplots assume a meaningful comparison of numeric data across categorical groups, which is valid for `subscribe` as a binary factor.\n",
    "- **Limitations**: The analysis does not include other potential variables, such as gender or behavioral session patterns, which may influence subscription.\n",
    "- **Model Comparison**: This section is focused on initial exploratory analysis, providing visual insights into the data prior to formal predictive modeling."
   ]
  },
  {
   "cell_type": "code",
   "execution_count": null,
   "id": "7760ed3c-5456-46d1-9b36-aa7b2da81c6e",
   "metadata": {},
   "outputs": [],
   "source": [
    "options(repr.plot.width = 10, repr.plot.height = 6)\n",
    "\n",
    "experience_subscribe_counts <- model_data |>\n",
    "  count(experience, subscribe)\n",
    "\n",
    "experience_subscribe_counts |>\n",
    "  ggplot(aes(x = experience, y = n, fill = subscribe)) +\n",
    "  geom_bar(stat = \"identity\", position = \"fill\") +\n",
    "  scale_y_continuous(labels = scales::label_percent()) +\n",
    "  labs(title = \"Proportion of Subscription Status by Experience Level\",\n",
    "       x = \"Experience Level\",\n",
    "       y = \"Proportion of Players\",\n",
    "       fill = \"Subscribed\") +\n",
    "       theme(text = element_text(size = 20))"
   ]
  },
  {
   "cell_type": "code",
   "execution_count": null,
   "id": "1eba7dd4-873d-410c-94e0-ea8e0716b744",
   "metadata": {},
   "outputs": [],
   "source": [
    "ggplot(model_data, aes(x = subscribe, y = played_hours, fill = subscribe)) +\n",
    "  geom_boxplot() +\n",
    "  labs(title = \"Played Hours by Subscription Status\",\n",
    "       x = \"Subscribed\",\n",
    "       y = \"Total Played Hours\") +\n",
    "  theme(text = element_text(size = 20))"
   ]
  },
  {
   "cell_type": "markdown",
   "id": "2eee48bc-6989-4193-8526-9adc3ee6c7ef",
   "metadata": {},
   "source": [
    "### Exploratory Data Analysis\n",
    "\n",
    "To explore the relationship between experience level and subscription, a **proportional stacked bar chart** (Figure 1) was created. The data were grouped by `experience` and `subscribe`, and the number of players in each group was counted. The chart used `position = \"fill\"` to show the proportion of subscribers within each experience level.\n",
    "\n",
    "**Figure 1** shows that players with higher experience levels (such as “Pro” and “Regular”) had a larger proportion of subscribers compared to lower-level players like “Beginner” or “Amateur”.\n",
    "\n",
    "To investigate whether game time was associated with subscription, a **boxplot** was generated (Figure 2). This visualization compared the distribution of `played_hours` between players who subscribed and those who did not.\n",
    "\n",
    "**Figure 2** indicates that subscribers generally played more hours on average, with a higher median and a wider range of playtime. This suggests that more active players may be more likely to engage further with the game, such as by subscribing to the newsletter.\n",
    "\n",
    "### Method Justification\n",
    "\n",
    "The visualizations used are suitable for comparing categorical variables (`experience`, `subscribe`) with numeric distributions (`played_hours`). Bar plots and boxplots are commonly used for exploratory data analysis in classification problems.\n",
    "\n",
    "- **Assumptions**: Boxplots assume a meaningful comparison of numeric data across categorical groups, which is valid for `subscribe` as a binary factor.\n",
    "- **Limitations**: The analysis does not include other potential variables, such as gender or behavioral session patterns, which may influence subscription.\n",
    "- **Model Comparison**: This section is focused on initial exploratory analysis, providing visual insights into the data prior to formal predictive modeling."
   ]
  },
  {
   "cell_type": "code",
   "execution_count": null,
   "id": "ba4f9a33-1cc6-4d32-9e24-552c6c7344d3",
   "metadata": {},
   "outputs": [],
   "source": [
    "model_data_played <- model_data |>\n",
    "  select(subscribe, played_hours)\n",
    "\n",
    "set.seed(2025)\n",
    "data_split <- initial_split(model_data_played, prop = 0.75, strata = subscribe)\n",
    "data_train <- training(data_split)\n",
    "data_test <- testing(data_split)\n",
    "\n",
    "knn_recipe <- recipe(subscribe ~ played_hours, data = data_train) |>\n",
    "  step_scale(all_numeric_predictors()) |>\n",
    "  step_center(all_numeric_predictors())\n",
    "\n",
    "knn_spec <- nearest_neighbor(neighbors = 5, weight_func = \"rectangular\") |>\n",
    "  set_engine(\"kknn\") |>\n",
    "  set_mode(\"classification\")\n",
    "\n",
    "knn_fit <- workflow() |>\n",
    "  add_recipe(knn_recipe) |>\n",
    "  add_model(knn_spec) |>\n",
    "  fit(data = data_train)\n",
    "\n",
    "knn_preds <- knn_fit |>\n",
    "  predict(data_test) |>\n",
    "  bind_cols(data_test)\n",
    "\n",
    "knn_preds |>\n",
    " conf_mat(truth=subscribe, estimate =.pred_class)\n",
    "knn_preds |>\n",
    " metrics(truth=subscribe, estimate =.pred_class)"
   ]
  },
  {
   "cell_type": "code",
   "execution_count": null,
   "id": "0f135d1b-0402-487b-994b-4d18006cbcec",
   "metadata": {},
   "outputs": [],
   "source": []
  },
  {
   "cell_type": "code",
   "execution_count": null,
   "id": "e9c3fb0c-e479-42a1-91e8-1f7e81525951",
   "metadata": {},
   "outputs": [],
   "source": []
  },
  {
   "cell_type": "code",
   "execution_count": null,
   "id": "91af82cc-410f-493f-9248-47d9f93b6b7b",
   "metadata": {},
   "outputs": [],
   "source": []
  },
  {
   "cell_type": "code",
   "execution_count": null,
   "id": "d4bca436-89f3-425e-9c63-7883d5a39731",
   "metadata": {},
   "outputs": [],
   "source": []
  },
  {
   "cell_type": "code",
   "execution_count": null,
   "id": "fb6a1bc4-ff0c-4492-89ca-75cf671c2984",
   "metadata": {},
   "outputs": [],
   "source": []
  },
  {
   "cell_type": "markdown",
   "id": "a0b363fc-e183-4530-9c31-0cec47ea5402",
   "metadata": {},
   "source": [
    "### Visualization\n",
    "\n",
    "To explore potential patterns, we created two plots:\n",
    "\n",
    "- A bar chart showing the proportion of subscribed players by experience level.\n",
    "\n",
    "The bar chart shows that more experienced players (e.g., “Pro” and “Veteran”) tend to subscribe more often. The boxplot suggests that subscribed players also tend to have played more hours overall.\n"
   ]
  },
  {
   "cell_type": "code",
   "execution_count": null,
   "id": "3f074dd9-a416-4a76-ba3b-8a009d45d6e6",
   "metadata": {},
   "outputs": [],
   "source": []
  },
  {
   "cell_type": "code",
   "execution_count": null,
   "id": "8f2dfa9a-01cb-4b98-88f8-5004cd52384e",
   "metadata": {},
   "outputs": [],
   "source": []
  }
 ],
 "metadata": {
  "kernelspec": {
   "display_name": "R",
   "language": "R",
   "name": "ir"
  },
  "language_info": {
   "codemirror_mode": "r",
   "file_extension": ".r",
   "mimetype": "text/x-r-source",
   "name": "R",
   "pygments_lexer": "r",
   "version": "4.3.3"
  }
 },
 "nbformat": 4,
 "nbformat_minor": 5
}
